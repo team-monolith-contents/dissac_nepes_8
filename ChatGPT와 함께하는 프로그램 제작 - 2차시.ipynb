{
 "cells": [
  {
   "cell_type": "markdown",
   "id": "ce7d7128",
   "metadata": {},
   "source": [
    "<div style=\"padding: 15px; border: 5px solid transparent; border-color: transparent; margin-bottom: 20px; border-radius: 4px; color: #3c763d; background-color: #dff0d8; border-color: #d6e9c6; font-weight: bold;\">\n",
    "    <br><br>\n",
    "    <div style=\"font-weight: bold; font-size: 40px\">ChatGPT와 함께하는 프로그램 제작</div>\n",
    "    <div style=\"font-weight: bold; font-size: 20px\">(2) 인공지능이 무엇인가요?</div>\n",
    "    <hr style=\"width:80%;text-align:left;margin-left:0;border:0.5px solid green\">\n",
    "    <br>\n",
    "    &#x2022; 인공지능의 정의를 이해할 수 있다. <br>\n",
    "    &#x2022; 인공지능의 탄생과 발전 과정을 이해할 수 있다.<br>\n",
    "    &#x2022; 다양한 분야에서 인공지능과 지능적 에이전트가 적용된 사례를 탐색할 수 있다.<br>\n",
    "</div>"
   ]
  },
  {
   "cell_type": "markdown",
   "id": "722e8202-8ed2-4368-8d95-3e2f16b8c815",
   "metadata": {},
   "source": [
    "지금 우리는 인공지능(AI, Artificial Intelligence) 시대를 맞이하고 있어요.  \n",
    "* 2016년 바둑 AI **알파고**의 등장은 세계를 놀라게 했습니다. 세계 최고의 바둑 기사인 이세돌 9단을 이기면서 AI의 가능성을 보여주었죠.  \n",
    "* 2023년에는 어떠한 질문이라도 인간 수준의 답변을 할 수 있는 대화형 AI인 **ChatGPT**까지 등장하였어요.  \n",
    "  \n",
    "인공지능은 그 어느 때보다 주목을 받고 있으며, 지금도 여러 분야에서 활발한 연구가 이루어지고 있어요!  "
   ]
  },
  {
   "cell_type": "markdown",
   "id": "fcbe2e6e-fc33-409a-8985-1b77da9f4abb",
   "metadata": {
    "tags": []
   },
   "source": [
    "<div style=\"padding: 15px; border: 5px solid transparent; border-color: transparent; margin-bottom: 20px; border-radius: 4px; color: #3c763d; border-color: #d6e9c6; font-weight: bold;\">\n",
    "<h2 style='font-weight: bold'>1. 인공지능의 정의</h2>\n",
    "</div>"
   ]
  },
  {
   "cell_type": "markdown",
   "id": "d3fff1cf-22e4-4d74-b8a2-951ed3cd1a7d",
   "metadata": {},
   "source": [
    " AI의 개념적 기반을 제시한 첫 연구는, 현대 컴퓨터의 아버지라 불리는 앨런 튜링이 제안한 **튜링 테스트**에요.  \n",
    "> 튜링 테스트: 1950년 앨런 튜링이 제안한 인공지능의 성능 테스트 \n",
    "* 상대가 누구인지 모르는 상태에서, 인간 질문자가 컴퓨터와 인간 두 응답자와 상호작용\n",
    "* 상호작용의 상대가 인간인지 컴퓨터인지 구분하지 못한다면 인공지능으로 판별  \n",
    " \n",
    "그러나 현재는 당시에 비해 많은 기술적 발전이 있으므로, 튜링 테스트를 현재 인공지능의 기준으로 그대로 적용할 수는 없어요.  \n",
    "\n",
    "<table>\n",
    "<tr>\n",
    "    <th><img src=\"https://tmn-bucket-materials-all.s3.ap-northeast-2.amazonaws.com/image/ai/AI-01-01.png\" width=\"750\"></th>\n",
    "    </tr>\n",
    "<tr>\n",
    "    <th>튜링 테스트</th>\n",
    "</tr>\n",
    "</table>"
   ]
  },
  {
   "cell_type": "markdown",
   "id": "e7d7a28d-7bd7-4fc2-bc7e-4536fefbcb0a",
   "metadata": {
    "id": "pj47POTQqpWo"
   },
   "source": [
    "현재의 인공지능에 대한 정의는 학자마다 조금씩 다르지만,    \n",
    "공통적으로 이야기하는 것은 **인간의 지능을 컴퓨터를 활용해 인공적으로 구현한다**는 것이에요.  \n",
    "* 인공지능은 사람이 가진 학습 능력, 추론 능력, 언어 이해 능력을 컴퓨터 프로그램을 통해 구현해요.\n",
    "* 인공지능을 활용해 여러 분야에 존재하는 어려운 문제들을 해결하고 있어요.  \n",
    "\n"
   ]
  },
  {
   "cell_type": "markdown",
   "id": "353795cf-5f14-4682-bac0-d78457ac2b7a",
   "metadata": {},
   "source": [
    "<div style=\"padding: 15px; border: 5px solid transparent; border-color: transparent; margin-bottom: 20px; border-radius: 4px; color: #8a6d3b;  border-color: #faebcc; font-weight: bold;\">\n",
    "    <div style=\"font-weight: bold; font-size: 20px\">✏️ [문제1]</div>\n",
    "    <br>\n",
    "인공지능 하면 떠오르는 내용들을 자유롭게 적어보아요.\n",
    "</div>"
   ]
  },
  {
   "cell_type": "raw",
   "id": "ea32ace3-21d9-4309-8fee-689cae2e516c",
   "metadata": {},
   "source": [
    " 👉 \n",
    " 👉 "
   ]
  },
  {
   "cell_type": "markdown",
   "id": "708f889f-4ecc-4d51-aa72-8c4957700897",
   "metadata": {},
   "source": [
    "<div style=\"padding: 15px; border: 5px solid transparent; border-color: transparent; margin-bottom: 20px; border-radius: 4px; color: #8a6d3b;  border-color: #faebcc; font-weight: bold;\">\n",
    "    <div style=\"font-weight: bold; font-size: 20px\">✏️ [문제2]</div>\n",
    "    <br>\n",
    "인공지능이 무엇인지 앞서 이야기한 ChatGPT에 질문해보아요.<br>\n",
    "    <a href=\"https://chat.openai.com/\"><button style=\"width:100px; height:25px\">Chatgpt 링크</button></a>\n",
    "</div>"
   ]
  },
  {
   "cell_type": "raw",
   "id": "0bd37b6b-b6c5-4a70-82a5-c4c21494d98f",
   "metadata": {},
   "source": [
    " 👉 \n",
    " 👉 "
   ]
  },
  {
   "cell_type": "markdown",
   "id": "c87bb9ff-29d8-4668-a521-eb681918acc0",
   "metadata": {},
   "source": [
    "<table>\n",
    "<tr>\n",
    "    <th><img src=\"https://tmn-bucket-materials-all.s3.ap-northeast-2.amazonaws.com/image/ai/AI-01-02.png\" width=\"750\"></th>\n",
    "    </tr>\n",
    "<tr>\n",
    "    <th>ChatGPT에 질문한 예시</th>\n",
    "</tr>\n",
    "</table>"
   ]
  },
  {
   "cell_type": "markdown",
   "id": "abc66ac2-b024-4249-a66e-40a1f869aeb0",
   "metadata": {
    "tags": []
   },
   "source": [
    "<div style=\"padding: 15px; border: 5px solid transparent; border-color: transparent; margin-bottom: 20px; border-radius: 4px; color: #3c763d; border-color: #d6e9c6; font-weight: bold;\">\n",
    "<h2 style='font-weight: bold'>2. 인공지능 기술의 발전과 사회 변화</h2>\n",
    "</div>"
   ]
  },
  {
   "cell_type": "markdown",
   "id": "aa1187a5-8c93-4487-b9f7-b0c009ce8824",
   "metadata": {},
   "source": [
    "인공지능 기술은 최근에 급격한 성장을 이루었기 때문에 새로운 기술이라고 생각할 수 있지만,  \n",
    "사실 1900년대 중반부터 꾸준히 연구되고 발전되었던 기술 분야에요.  \n",
    "초기부터 현재까지 인공지능 기술의 발전 과정을 간단하게 살펴보아요."
   ]
  },
  {
   "cell_type": "markdown",
   "id": "97fc66fc-28f6-494c-b05c-50ed5503df37",
   "metadata": {
    "id": "EQSQv_VTqpWp"
   },
   "source": [
    "**1. 퍼셉트론**   \n",
    "\n",
    "1957년 퍼셉트론이라는 알고리즘이 공개되면서 당시 새로운 패러다임으로 주목을 받았었어요.  \n",
    "* 다수의 입력을 받아 하나의 값을 출력하는 컴퓨터 알고리즘  \n",
    "* 인간의 뇌가 정보를 처리하는 방식을 닮도록 설계\n",
    "\n",
    "퍼셉트론은 당시 실생활에 활용될 정도로 발전하지는 못했지만, 딥러닝의 핵심 요소인 심층 신경망 모델로 발전한다는 점에서 의미가 있었어요.\n",
    "\n",
    "<table>\n",
    "<tr>\n",
    "    <th><img src=\"https://tmn-bucket-materials-all.s3.ap-northeast-2.amazonaws.com/image/ai/AI-01-03.png\" width=\"750\"></th>\n",
    "    <th><img src=\"https://tmn-bucket-materials-all.s3.ap-northeast-2.amazonaws.com/image/ai/AI-01-04.gif\" width=\"750\"></th>\n",
    "    </tr>\n",
    "<tr>\n",
    "    <th>인간의 뇌(뉴런)</th>\n",
    "    <th>퍼셉트론</th>\n",
    "</tr>\n",
    "</table>"
   ]
  },
  {
   "cell_type": "markdown",
   "id": "2ebfd8d0-e0d1-4daf-9ce6-b4de61f63214",
   "metadata": {},
   "source": [
    "**2. 전문가 시스템**  \n",
    "\n",
    "초창기 인공지능 기술은 컴퓨터의 성능과 같은 여러 현실적인 문제가 있었기 때문에 크게 발전하지 못했어요.  \n",
    "따라서 당시에는 전문가 시스템이 발전했었어요.   \n",
    "* 전문 지식과 경험 등의 데이터를 컴퓨터에 축적하고, 추론 엔진을 사용하여 문제 해결\n",
    "* ex) 여러 가지 의학적 규칙을 컴퓨터에 축적하여, 증상에 따른 정확한 의학적 진단을 내림\n",
    "\n",
    "이를 사용하여 전문 지식이 없는 일반 사용자들이 조언을 제공받을 수 있었기 때문에, 당시 사회에서 많이 사용되었어요.\n",
    "<table>\n",
    "<tr>\n",
    "    <th><img src=\"https://tmn-bucket-materials-all.s3.ap-northeast-2.amazonaws.com/image/ai/AI-01-05.png\" width=\"750\"></th>\n",
    "    </tr>\n",
    "<tr>\n",
    "    <th>전문가 시스템</th>\n",
    "</tr>\n",
    "</table>"
   ]
  },
  {
   "cell_type": "markdown",
   "id": "c51fd3a2-f3d0-4f5f-995a-be6f2068d80d",
   "metadata": {},
   "source": [
    "**3. 기계 학습(머신러닝)**  \n",
    "\n",
    "전문가 시스템은 많은 비용이 필요하고, 전문 지식이 필요한 분야 외에는 활용되기 어려웠어요.  \n",
    "시간이 지나고 데이터 수집/가공이 활발해지면서, 데이터를 적극적으로 활용하는 기계 학습이 주목받게 되었어요.  \n",
    "\n",
    "* 데이터 특징(Data Feature)을 추출하여, 그 내용을 바탕으로 컴퓨터를 학습시키는 방법이에요.  \n",
    "* 학습한 내용을 바탕으로, 새로운 데이터에 대해서도 인공지능 스스로 예측할 수 있어요.\n",
    "\n",
    "방대한 데이터를 컴퓨터가 스스로 **학습**할 수 있었기 때문에, 기존의 인공지능과 달리 다양한 분야에서 활용될 수 있었어요.  \n"
   ]
  },
  {
   "cell_type": "markdown",
   "id": "f7c135da-5450-485b-a96e-c58b20668f9d",
   "metadata": {},
   "source": [
    "**1) 전통적인 머신러닝**  \n",
    "\n",
    "전통적인 머신러닝에서는 사람이 데이터에서 특징을 추출하여 컴퓨터에 입력하면, 컴퓨터가 정보를 토대로 학습해요.  \n",
    "예를 들어, 아래 그림에서는 숫자의 **자릿수**라는 특징을 컴퓨터에 입력해서 학습이 이루어지는 과정이에요.\n",
    "\n",
    "<table>\n",
    "<tr>\n",
    "    <th><img src=\"https://tmn-bucket-materials-all.s3.ap-northeast-2.amazonaws.com/image/ai/AI-01-06.gif\" width=\"750\"></th>\n",
    "    </tr>\n",
    "<tr>\n",
    "    <th>전통적인 기계 학습</th>\n",
    "</tr>\n",
    "</table>"
   ]
  },
  {
   "cell_type": "markdown",
   "id": "c4fce95d-6a84-425b-94e4-75654a3ec3b2",
   "metadata": {},
   "source": [
    "**2) 딥러닝**  \n",
    "\n",
    "전통적인 기계 학습의 단점은 사람이 데이터 특징을 적절하게 추출하지 못하면 정확한 학습이 어렵다는 것이었어요.  \n",
    "이미지, 언어과 같은 비정형 데이터에서는 데이터 특징이 뚜렷하지 않아, 이러한 단점이 더욱 크게 드러났어요.  \n",
    "\n",
    "이러한 문제점을 해결한 것이 **딥러닝**이에요.  \n",
    "딥러닝은 데이터 특징 추출과 학습을 모두 컴퓨터가 스스로 하기 때문에 전통적인 기계 학습과 차이점이 있어요.  \n",
    "\n",
    "<table>\n",
    "<tr>\n",
    "    <th><img src=\"https://tmn-bucket-materials-all.s3.ap-northeast-2.amazonaws.com/image/ai/AI-01-07.png\" width=\"750\"></th>\n",
    "    </tr>\n",
    "<tr>\n",
    "    <th>기계 학습과 딥러닝</th>\n",
    "</tr>\n",
    "</table>"
   ]
  },
  {
   "cell_type": "markdown",
   "id": "671f057e-2f1a-4d91-87f9-ade3ee7d3f0b",
   "metadata": {},
   "source": [
    "딥러닝 기술의 발전으로, 현재는 인공지능이 사회의 여러 분야에 도입되어 활용되고 있어요.  \n",
    "* 자율주행차에 적용되어, 운전자가 조작하지 않아도 목적지까지 안전하게 운행할 수 있어요.\n",
    "* 고도화된 챗봇을 통해 사용자의 질문에 자연스럽게 대답할 수 있어요.  \n",
    "\n",
    "이처럼 인공지능은 사람의 삶의 질을 향상시키는 데 도움을 주며, 사회 질서를 유지하고 사람의 안전을 확보하는 등 여러 문제를 해결하기도 해요.     \n"
   ]
  },
  {
   "cell_type": "markdown",
   "id": "6b7777bc-032f-4977-afeb-f2f21136dacb",
   "metadata": {},
   "source": [
    "인공지능의 등장으로 인한 일자리의 변화에 대해서도 주목을 얻고 있어요.   \n",
    "사람들이 일자리를 잃을 것이라 전망하기도 하고, 오히려 다양한 직업이 새로 생겨날 것이라 전망하기도 해요.  \n",
    "> 미래 사회에서는 많은 분야에서 인공지능이 중요하게 활용될 것으로 예상되므로, 어떤 직업에 종사하든지 인공지능을 이해하는 것이 중요해요!  "
   ]
  },
  {
   "cell_type": "markdown",
   "id": "ebd98324-91fd-49bb-a40d-fda5cc0acba2",
   "metadata": {
    "tags": []
   },
   "source": [
    "<div style=\"padding: 15px; border: 5px solid transparent; border-color: transparent; margin-bottom: 20px; border-radius: 4px; color: #3c763d; border-color: #d6e9c6; font-weight: bold;\">\n",
    "<h2 style='font-weight: bold'>3. 지능적 에이전트(Intelligent Agent)</h2>\n",
    "</div>"
   ]
  },
  {
   "cell_type": "markdown",
   "id": "d70b5874-79cc-40b2-b638-b975b9272259",
   "metadata": {},
   "source": [
    "사람 대신 단순하고 반복적인 업무를 처리하는 자동화 시스템을 **에이전트**라고 해요.  \n",
    "에이전트에 인공지능을 결합하여 고도화된 업무를 처리할 수 있게 되었고, 이것을 **지능 에이전트**라고 해요.  \n",
    "지능 에이전트는 생활 속에서 다양한 형태로 여러 가지 일을 수행하고 있어요.  \n",
    "\n",
    "> 세탁기, 로봇 청소기부터 스마트폰 비서까지 우리 주변의 인공지능 서비스는 대부분 지능 에이전트라고 할 수 있어요!\n",
    "\n",
    "\n",
    "<table>\n",
    "<tr>\n",
    "    <th><img src=\"https://tmn-bucket-materials-all.s3.ap-northeast-2.amazonaws.com/image/ai/AI-01-08.png\" width=\"750\"></th>\n",
    "    <th><img src=\"https://tmn-bucket-materials-all.s3.ap-northeast-2.amazonaws.com/image/ai/AI-01-09.png\" width=\"750\"></th>\n",
    "    </tr>\n",
    "<tr>\n",
    "    <th>로봇 청소기</th>\n",
    "    <th>스마트폰 비서</th>\n",
    "</tr>\n",
    "</table>"
   ]
  },
  {
   "cell_type": "markdown",
   "id": "7c54eac0-2c01-474a-8ebf-08ae07551527",
   "metadata": {},
   "source": [
    "**[문제3] 우리 주변의 지능 에이전트를 찾아보아요.** "
   ]
  },
  {
   "cell_type": "markdown",
   "id": "58da9737-e93d-41ef-bfd9-7e6c6881d673",
   "metadata": {},
   "source": [
    "<div style=\"padding: 15px; border: 5px solid transparent; border-color: transparent; margin-bottom: 20px; border-radius: 4px; color: #8a6d3b;  border-color: #faebcc; font-weight: bold;\">\n",
    "    <div style=\"font-weight: bold; font-size: 20px\">✏️ [문제3]</div>\n",
    "    <br>\n",
    "우리 주변의 지능 에이전트를 찾아보아요.\n",
    "</div>"
   ]
  },
  {
   "cell_type": "raw",
   "id": "84e8208b-0405-4a66-89a0-9c13c61c2922",
   "metadata": {},
   "source": [
    " 👉 \n",
    " 👉 "
   ]
  }
 ],
 "metadata": {
  "kernelspec": {
   "display_name": "Python 3 (ipykernel)",
   "language": "python",
   "name": "python3"
  },
  "language_info": {
   "codemirror_mode": {
    "name": "ipython",
    "version": 3
   },
   "file_extension": ".py",
   "mimetype": "text/x-python",
   "name": "python",
   "nbconvert_exporter": "python",
   "pygments_lexer": "ipython3",
   "version": "3.10.12"
  }
 },
 "nbformat": 4,
 "nbformat_minor": 5
}
