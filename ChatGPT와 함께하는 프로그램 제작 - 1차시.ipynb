{
 "cells": [
  {
   "cell_type": "markdown",
   "id": "ce7d7128",
   "metadata": {},
   "source": [
    "<div style=\"padding: 15px; border: 5px solid transparent; border-color: transparent; margin-bottom: 20px; border-radius: 4px; color: #3c763d; background-color: #dff0d8; border-color: #d6e9c6; font-weight: bold;\">\n",
    "    <br><br>\n",
    "    <div style=\"font-weight: bold; font-size: 40px\">ChatGPT와 함께하는 프로그램 제작</div>\n",
    "    <div style=\"font-weight: bold; font-size: 20px\">(1) 인공지능과 우리 사회</div>\n",
    "    <hr style=\"width:80%;text-align:left;margin-left:0;border:0.5px solid green\">\n",
    "    <br>\n",
    "    &#x2022; 인공지능 활용에서 소외되는 사회 구성원을 알고 인공지능 활용에서 소외되지 않기 위한 방안을 제시할 수 있다.<br>\n",
    "    &#x2022; 인간이 인공지능을 효율적으로 활용하며 조화롭게 살아가기 위하여 인간에게 필요한 역량을 탐색할 수 있다.<br>\n",
    "    &#x2022; 인공지능 개발자가 고려해야할 사항을 설명할 수 있다.<br>\n",
    "    &#x2022; 인공지능 윤리 가이드라인을 탐구하고 발전시킬 수 있다.<br>\n",
    "</div>"
   ]
  },
  {
   "cell_type": "markdown",
   "id": "d907de7b",
   "metadata": {
    "tags": []
   },
   "source": [
    "<div style=\"padding: 15px; border: 5px solid transparent; border-color: transparent; margin-bottom: 20px; border-radius: 4px; color: #3c763d; border-color: #d6e9c6; font-weight: bold;\">\n",
    "<h2 style='font-weight: bold'>1.인공지능 발전으로 인한 사회, 문화적 영향</h2>\n",
    "</div>"
   ]
  },
  {
   "cell_type": "markdown",
   "id": "bf38cb4d",
   "metadata": {},
   "source": [
    "인공지능은 이미 다양한 분야에서 활용되고 있고, 우리에게 사회적, 문화적으로 영향을 미치고 있습니다. "
   ]
  },
  {
   "cell_type": "markdown",
   "id": "339f6f7a",
   "metadata": {},
   "source": [
    "### **(1) 사회적 영향**"
   ]
  },
  {
   "cell_type": "markdown",
   "id": "e68423bc",
   "metadata": {},
   "source": [
    "기술의 발전은 우리의 일자리를 크게 변화 시킵니다.\n",
    "\n",
    "<table>\n",
    "<tr>\n",
    "    <th><img src=\"https://tmn-bucket-materials-all.s3.ap-northeast-2.amazonaws.com/image/ai/AI-16-01.png\" width=\"750\"></th>\n",
    "    </tr>\n",
    "<tr>\n",
    "    <th>버스 여차장과 얼음 장수</th>\n",
    "</tr>\n",
    "</table>\n",
    "\n",
    "* 버스 차장 \n",
    "\n",
    "> 우리에게 버스 안내양으로도 알려져 있는 버스 차장은 1920년도에 우리나라에 처음 등장한 직업으로 버스 이용 요금 징수, 하차지 안내, 출입문 열고 닫기 등의 역할을 했습니다. 1980년도에 버스 자동문과 버스벨이 등장하면서 사라지게 되었습니다.\n",
    "* 얼음 장수\n",
    "\n",
    "> 조선 후기 얼음 장수는 한겨울에 강가의 얼음이 얼면 얼음을 떼어낸 후 주변 창고에 얼음을 보관합니다. 그리고 날이 따뜻해지면 보관해둔 얼음을 필요한 사람들에게 배달했습니다. 1900년도에 냉장고가 등장하면서 사라지게 되었습니다.\n",
    "\n",
    "인공지능의 도입은 또다시 우리의 일자리에 큰 변화를 불러올 것입니다."
   ]
  },
  {
   "cell_type": "markdown",
   "id": "11c30692-a152-49db-866e-227ee982cac7",
   "metadata": {},
   "source": [
    "<div style=\"padding: 15px; border: 5px solid transparent; border-color: transparent; margin-bottom: 20px; border-radius: 4px; color: #8a6d3b;  border-color: #faebcc; font-weight: bold;\">\n",
    "    <div style=\"font-weight: bold; font-size: 20px\">✏️ [문제1]</div>\n",
    "    <br>\n",
    " 현재의 직업 중 인공지능의 등장으로 인해 사라질 직업과 그렇게 생각한 이유를 적어보세요.\n",
    "</div>"
   ]
  },
  {
   "cell_type": "raw",
   "id": "0e4f34b4-394c-4438-bf2e-8b8951f513fc",
   "metadata": {},
   "source": [
    " 👉 \n",
    " 👉 "
   ]
  },
  {
   "cell_type": "markdown",
   "id": "af56ab03",
   "metadata": {},
   "source": [
    "### **(2) 문화적 영향**"
   ]
  },
  {
   "cell_type": "markdown",
   "id": "ecd6ac1b",
   "metadata": {},
   "source": [
    "우리는 다른 나라의 언어를 모르더라도 소통할 수 있는 세상에 살고 있습니다.\n",
    "\n",
    "* 인공지능 번역기\n",
    "\n",
    "> 구글 번역은 100개가 넘는 언어를 번역할 수 있으며, 하루 수억 건이 넘는 번역을 처리하고 있다고 합니다.\n",
    ">\n",
    "> 파파고는 15개의 언어를 번역할 수 있으며. 촬영된 이미지 속 글자를 번역할 수 있습니다.\n",
    ">\n",
    "> 이어폰을 착용하면 상대방의 말을 착용자의 언어로 번역도 이미 가능하다고 합니다.\n",
    "\n",
    "<table>\n",
    "<tr>\n",
    "    <th><img src=\"https://tmn-bucket-materials-all.s3.ap-northeast-2.amazonaws.com/image/ai/AI-16-08.gif\" width=\"750\"></th>\n",
    "    </tr>\n",
    "<tr>\n",
    "    <th>인공지능 번역기로 대화하는 사람들</th>\n",
    "</tr>\n",
    "</table>"
   ]
  },
  {
   "cell_type": "markdown",
   "id": "051eb064-a946-467f-a8b8-b0e7a3ffbfe0",
   "metadata": {},
   "source": [
    "<div style=\"padding: 15px; border: 5px solid transparent; border-color: transparent; margin-bottom: 20px; border-radius: 4px; color: #8a6d3b;  border-color: #faebcc; font-weight: bold;\">\n",
    "    <div style=\"font-weight: bold; font-size: 20px\">✏️ [문제2]</div>\n",
    "    <br>\n",
    " 인공지능 번역기를 활용했을 때의 장점과 단점을 한가지씩 적어보세요\n",
    "</div>"
   ]
  },
  {
   "cell_type": "raw",
   "id": "0b414d57-1b8e-4555-a12e-3882430f5194",
   "metadata": {},
   "source": [
    " 👉 장점 : \n",
    " 👉 단점 : "
   ]
  },
  {
   "cell_type": "markdown",
   "id": "10db7bf6-487e-4265-932f-2a2b5f552504",
   "metadata": {
    "tags": []
   },
   "source": [
    "<div style=\"padding: 15px; border: 5px solid transparent; border-color: transparent; margin-bottom: 20px; border-radius: 4px; color: #3c763d; border-color: #d6e9c6; font-weight: bold;\">\n",
    "<h2 style='font-weight: bold'>2. 인공지능 활용에서 소외받는 사람들</h2>\n",
    "</div>"
   ]
  },
  {
   "cell_type": "markdown",
   "id": "2510f0ed",
   "metadata": {},
   "source": [
    "사회, 문화적으로 다양한 영향을 미치고 있는 인공지능 기술의 발전은 우리 모두를 행복하게 만들까요? \n",
    "\n",
    "그렇지 않습니다.\n",
    "\n",
    "다음의 이야기를 통해 인공지능 사회에서 소외받는 사람들을 살펴봅시다.\n",
    "\n",
    "<table>\n",
    "<tr>\n",
    "    <th><img src=\"https://tmn-bucket-materials-all.s3.ap-northeast-2.amazonaws.com/image/ai/AI-16-02.png\" width=\"750\"></th>\n",
    "    </tr>\n",
    "<tr>\n",
    "    <th>시각 장애인 웹 접근성 심각하다</th>\n",
    "</tr>\n",
    "</table>\n",
    "\n",
    "<table>\n",
    "<tr>\n",
    "    <th><img src=\"https://tmn-bucket-materials-all.s3.ap-northeast-2.amazonaws.com/image/ai/AI-16-03.png\" width=\"750\"></th>\n",
    "    </tr>\n",
    "<tr>\n",
    "    <th>자율주행차가 차량공유 서비스의 대다수를 차지할 것이다</th>\n",
    "</tr>\n",
    "</table>"
   ]
  },
  {
   "cell_type": "markdown",
   "id": "280d29fd-41c3-4510-b46a-c39b644a7f36",
   "metadata": {},
   "source": [
    "<div style=\"padding: 15px; border: 5px solid transparent; border-color: transparent; margin-bottom: 20px; border-radius: 4px; color: #8a6d3b;  border-color: #faebcc; font-weight: bold;\">\n",
    "    <div style=\"font-weight: bold; font-size: 20px\">✏️ [문제3]</div>\n",
    "    <br>\n",
    " 인공지능 기술로 인해 소외받는 사람들에는 누가 있는지 2가지 이상의 사례를 적어보세요.\n",
    "</div>"
   ]
  },
  {
   "cell_type": "raw",
   "id": "00914092-9e7a-48b7-afe4-8c07cdeea56e",
   "metadata": {},
   "source": [
    " 👉 \n",
    " 👉 "
   ]
  },
  {
   "cell_type": "markdown",
   "id": "11bf37cf",
   "metadata": {},
   "source": [
    "위와 같이 인공지능 기술로 인해 소외받는 사람들이 있습니다. 그러면 인공지능 기술을 우리는 활용하지 말아야할까요?\n",
    "\n",
    "시인 '조지 고든 바이런'은 다음과 같은 말을 하였습니다.\n",
    "\n",
    "`미래에 대한 최선의 예언가는 과거이다`\n",
    "\n",
    "역사를 통해 인공지능 기술 활용의 미래를 살펴봅시다.\n"
   ]
  },
  {
   "cell_type": "markdown",
   "id": "f5ccb538",
   "metadata": {},
   "source": [
    "### (1) 러다이트 운동"
   ]
  },
  {
   "cell_type": "markdown",
   "id": "030bd516",
   "metadata": {},
   "source": [
    "<table>\n",
    "<tr>\n",
    "    <th><img src=\"https://tmn-bucket-materials-all.s3.ap-northeast-2.amazonaws.com/image/ai/AI-16-04.png\" width=\"750\"></th>\n",
    "    </tr>\n",
    "<tr>\n",
    "    <th>러다이트 운동</th>\n",
    "</tr>\n",
    "</table>\n",
    "\n",
    "18세기 초까지 영국의 섬유 산업은 숙련된 노동자가 제품을 생산하는 방식이었습니다.\n",
    "\n",
    "그러나 섬유 직조 기계의 등장으로 인해 일정 수준 이상의 품질의 제품을 누구나 제작할 수 있게 되면서 섬유 노동자들의 임금과 가치가 급속도로 낮아지게 되었습니다.\n",
    "\n",
    "이로인해 19세기 초반 영국에서 섬유 산업 노동자들이 섬유 직조 기계를 파괴하게 되는데, 이 사건을 **러다이트 운동** 이라고 합니다."
   ]
  },
  {
   "cell_type": "markdown",
   "id": "fc1cf972",
   "metadata": {},
   "source": [
    "### (2) 적기조례\n",
    "\n",
    "<table>\n",
    "<tr>\n",
    "    <th><img src=\"https://tmn-bucket-materials-all.s3.ap-northeast-2.amazonaws.com/image/ai/AI-16-05.png\" width=\"750\"></th>\n",
    "    </tr>\n",
    "<tr>\n",
    "    <th>적기조례</th>\n",
    "</tr>\n",
    "</table>\n",
    "\n",
    "19세기 초, 영국에 실용화된 자동차가 등장하였습니다.\n",
    "\n",
    "자동차의 등장으로 인해 타격을 입은 사람은 마차를 모는 마부들이었습니다.\n",
    "\n",
    "이 마부들을 보호하기 위해 만든 법이 **적기조례**로 다음과 같은 내용을 포함하고 있습니다.\n",
    "\n",
    "- 차량의 중량은 14톤으로 제한한다.\n",
    "\n",
    "- 차량의 폭은 2.7미터로 제한한다.\n",
    "\n",
    "- 교외에서는 4 mph(6km/h), 시가지에서는 2mph(3km/h)의 속도 제한을 정한다.\n",
    "\n",
    "- 자동차는, 운전수, 기관원, 붉은 기를 가지고 차량의 60야드(55미터)전방을 걷는 사람의 3명으로 운용하는 것을 규정한다. 붉은 기인가 랜턴을 가진 사람은 걷는 속도를 지키고 기수나 말에게 자동차의 접근을 예고한다."
   ]
  },
  {
   "cell_type": "markdown",
   "id": "934f5981",
   "metadata": {},
   "source": [
    "러다이트 운동은 결국 섬유 직조 기계의 활용과 발전을 저지하지 못하였습니다.\n",
    "\n",
    "적기조례 또한 자동차의 활용과 발전을 저지하지 못하였습니다.\n",
    "\n",
    "인공지능 기술 또한 앞으로도 꾸준히 활용되고 발전될 것입니다."
   ]
  },
  {
   "cell_type": "markdown",
   "id": "ee181965-ac23-4054-a0af-746d80cd6a4e",
   "metadata": {},
   "source": [
    "<div style=\"padding: 15px; border: 5px solid transparent; border-color: transparent; margin-bottom: 20px; border-radius: 4px; color: #8a6d3b;  border-color: #faebcc; font-weight: bold;\">\n",
    "    <div style=\"font-weight: bold; font-size: 20px\">✏️ [문제4]</div>\n",
    "    <br>\n",
    " 인공지능 기술의 발전은 막을 수 없는 흐름입니다. \"시각장애인의 키오스크 활용\"을 보다 편리하게 만들 수 있는 방법을 적어보세요.\n",
    "</div>"
   ]
  },
  {
   "cell_type": "raw",
   "id": "4da04b71-9dfe-446d-b4df-38d7b0830751",
   "metadata": {},
   "source": [
    " 👉 \n",
    " 👉 "
   ]
  },
  {
   "cell_type": "markdown",
   "id": "91faa536-32a0-4910-b123-d92b6a9273aa",
   "metadata": {
    "tags": []
   },
   "source": [
    "<div style=\"padding: 15px; border: 5px solid transparent; border-color: transparent; margin-bottom: 20px; border-radius: 4px; color: #3c763d; border-color: #d6e9c6; font-weight: bold;\">\n",
    "<h2 style='font-weight: bold'>3. 인공지능 사회에 필요한 역량</h2>\n",
    "</div> "
   ]
  },
  {
   "cell_type": "markdown",
   "id": "65e5fd0c",
   "metadata": {},
   "source": [
    "우리는 초, 중, 고등학교를 거쳐 다음과 같은 사람이 되고자 합니다.\n",
    "\n",
    "- 자기주도적인 사람\n",
    "- 창의적인 사람\n",
    "- 교양있는 사람\n",
    "- 더불어 사는 사람\n",
    "\n",
    "이러한 사람이 되기 위해 다음의 **핵심역량**을 기르죠.\n",
    "\n",
    "<table>\n",
    "<tr>\n",
    "    <th><img src=\"https://tmn-bucket-materials-all.s3.ap-northeast-2.amazonaws.com/image/ai/AI-16-06.png\" width=\"750\"></th>\n",
    "    </tr>\n",
    "<tr>\n",
    "    <th>교육과정 핵심역량 6가지</th>\n",
    "</tr>\n",
    "</table>\n",
    "\n",
    "인공지능 사회에서도 **역량**은 필요할 것입니다."
   ]
  },
  {
   "cell_type": "markdown",
   "id": "538dcb99-21d4-44dd-a74c-46ed87ec0c98",
   "metadata": {},
   "source": [
    "<div style=\"padding: 15px; border: 5px solid transparent; border-color: transparent; margin-bottom: 20px; border-radius: 4px; color: #8a6d3b;  border-color: #faebcc; font-weight: bold;\">\n",
    "    <div style=\"font-weight: bold; font-size: 20px\">✏️ [문제5]</div>\n",
    "    <br>\n",
    " ChatGPT는 위 6가지 핵심역량 중 어떤 역량을 인공지능 사회에 가장 필요한 역량이라고 생각할까요? ChatGPT에 질문해봅시다.\n",
    "</div>"
   ]
  },
  {
   "cell_type": "raw",
   "id": "bad7c194-1c81-446d-9bcc-01e54c1435e8",
   "metadata": {},
   "source": [
    " 👉 \n",
    " 👉 "
   ]
  },
  {
   "cell_type": "markdown",
   "id": "325df588-7559-4e6a-a61d-272c778151a7",
   "metadata": {},
   "source": [
    "<div style=\"padding: 15px; border: 5px solid transparent; border-color: transparent; margin-bottom: 20px; border-radius: 4px; color: #8a6d3b;  border-color: #faebcc; font-weight: bold;\">\n",
    "    <div style=\"font-weight: bold; font-size: 20px\">✏️ [문제6]</div>\n",
    "    <br>\n",
    "문제2의 ChatGPT에서 출력한 내용에 대한 내 생각을 적어보세요.\n",
    "</div>"
   ]
  },
  {
   "cell_type": "raw",
   "id": "e6fe8735-58e0-419f-b442-68e00449b42c",
   "metadata": {},
   "source": [
    " 👉 \n",
    " 👉 "
   ]
  },
  {
   "cell_type": "markdown",
   "id": "805c9a23-99cd-482b-9fe7-044799fe4556",
   "metadata": {
    "tags": []
   },
   "source": [
    "<div style=\"padding: 15px; border: 5px solid transparent; border-color: transparent; margin-bottom: 20px; border-radius: 4px; color: #3c763d; border-color: #d6e9c6; font-weight: bold;\">\n",
    "<h2 style='font-weight: bold'>4. 인공지능 개발자가 고려해야할 사항</h2>\n",
    "</div> "
   ]
  },
  {
   "cell_type": "markdown",
   "id": "ad32bb47-12a6-494b-8d17-da7b62968a3d",
   "metadata": {},
   "source": [
    "`Code.org`에서 만든 `AI For Ocean`은 지도학습을 통해 인공지능이 쓰레기와 물고기를 분류하고 바다 속 쓰레기를 청소하여 바다를 깨끗하게 만들고자 합니다.\n",
    "\n",
    "지도학습이기 때문에 기존의 데이터에 인간이 라벨(정답)을 붙이게 됩니다.\n",
    "\n",
    "<table>\n",
    "<tr>\n",
    "    <th><img src=\"https://tmn-bucket-materials-all.s3.ap-northeast-2.amazonaws.com/image/ai/AI-17-01.gif\" width=\"750\"></th>\n",
    "    </tr>\n",
    "<tr>\n",
    "    <th>선한 의도로 학습</th>\n",
    "</tr>\n",
    "</table>\n",
    "\n",
    "그런데, 이 인공지능을 인간이 나쁜 의도를 가지고 학습시키면 어떻게 될까요?\n",
    "\n",
    "라벨을 붙일 때 물고기는 쓰레기로, 쓰레기는 물고기로 학습시키는거죠.\n",
    "\n",
    "<table>\n",
    "<tr>\n",
    "    <th><img src=\"https://tmn-bucket-materials-all.s3.ap-northeast-2.amazonaws.com/image/ai/AI-17-02.gif\" width=\"750\"></th>\n",
    "    </tr>\n",
    "<tr>\n",
    "    <th>나쁜 의도로 학습</th>\n",
    "</tr>\n",
    "</table>\n",
    "\n",
    "아래의 링크에 들어가 인공지능을 학습시키며, 인공지능 시대에서의 인간의 역할은 무엇인지 생각해보세요.\n",
    "\n",
    "<a href=https://studio.code.org/s/oceans/lessons/1/levels/1>링크_AI For Ocean</a>\n",
    "\n",
    "- 이때, 화면의 왼쪽 아래를 눌러 \"한국어\"로 언어 설정을 바꿔주세요.\n",
    "\n",
    "- 영상은 자막을 누르면 한국어로 볼 수 있습니다."
   ]
  },
  {
   "cell_type": "markdown",
   "id": "c4924c11-f3ed-4f68-b6c0-300c48d9f3c2",
   "metadata": {},
   "source": [
    "<div style=\"padding: 15px; border: 5px solid transparent; border-color: transparent; margin-bottom: 20px; border-radius: 4px; color: #8a6d3b;  border-color: #faebcc; font-weight: bold;\">\n",
    "    <div style=\"font-weight: bold; font-size: 20px\">✏️ [문제7]</div>\n",
    "    <br>\n",
    " AI For Ocean을 통해 알 수 있는, 인공지능 시대에서의 인간의 역할은 무엇인지 적어보세요.\n",
    "</div>"
   ]
  },
  {
   "cell_type": "raw",
   "id": "04080d31-1d30-485b-902d-c3e543c512c8",
   "metadata": {},
   "source": [
    " 👉 \n",
    " 👉 "
   ]
  },
  {
   "cell_type": "markdown",
   "id": "6fc0ec89-17ce-4dc6-ac72-b9bc88862c78",
   "metadata": {},
   "source": [
    "AI For Ocean에서 살펴본 바와 같이 인공지능을 학습 시킬 때 **데이터 선정이 중요하다**는 것을 알 수 있었습니다.\n",
    "\n",
    "아래의 두 뉴스는 **데이터 선정**으로 인해 발생하였습니다.\n",
    "\n",
    "* 친구 얼굴을 고릴라로 인식한 구글\n",
    "> 2015년 미국에 사는 흑인 남성 재키 앨신(Jacky Alcine)은 흑인 친구와 함께 찍은 사진을 분류한 '구글 포토'를 보고 화를 참을 수 없었다. 구글 포토의 인공지능이 그와 친구가 함께 나온 사진을 'Gorillas'라고 태그를 단 것이다. 구글은 이 사태에 대해 재빠르게 사과하고 수정을 했는데, 수정 방법은 인공지능 알고리즘에서 '고릴라', '침팬지', '원숭이'를 삭제하는 일시적인 방법이었다.\n",
    "\n",
    "* AI 준 학점, 가난한 학생을 차별했다\n",
    "> 2020년 영국의 고교 졸업반 30여만명은 졸업시험에 해당되는 '에이(A)-레벨 시험'을 치르지 못했다. 영국 정부 당국은 '직접센터학업모델'이라는 알고리즘을 이용해 학생들에게 학점을 부여했다. 영국 정부는 \"기존 데이터에 근거해 학생들에게 적합한 학점을 부여한다\"고 자신했다. 위 알고리즘은 사립학교 학생들에게는 높은 점수를, 공립학교 학생들에게는 낮은 점수를 부여했다.\n",
    ">\n",
    "> (출처 : 한겨레, AI가 준 학점, 가난한 학생을 차별했다, 2020.08.24.)\n",
    "> \n",
    "<table>\n",
    "<tr>\n",
    "    <th><img src=\"https://tmn-bucket-materials-all.s3.ap-northeast-2.amazonaws.com/image/ai/AI-17-03.png\" width=\"750\"></th>\n",
    "    </tr>\n",
    "<tr>\n",
    "    <th>데이터 선정으로 인한 문제</th>\n",
    "</tr>\n",
    "</table>"
   ]
  },
  {
   "cell_type": "markdown",
   "id": "b0476160-73a7-4b2e-8100-6d62d6997deb",
   "metadata": {},
   "source": [
    "<div style=\"padding: 15px; border: 5px solid transparent; border-color: transparent; margin-bottom: 20px; border-radius: 4px; color: #8a6d3b;  border-color: #faebcc; font-weight: bold;\">\n",
    "    <div style=\"font-weight: bold; font-size: 20px\">✏️ [문제8]</div>\n",
    "    <br>\n",
    "위 내용을 바탕으로 '인공지능은 공명정대하고 편향성이 없다'는 말을 반박해보세요.  <br>\n",
    "    *편항성 : 한쪽으로 치우친 성질(출처: 표준국어대사전)\n",
    "</div>"
   ]
  },
  {
   "cell_type": "raw",
   "id": "bcc74b51-6c87-4352-8e70-e6ab8d082b0e",
   "metadata": {},
   "source": [
    " 👉 \n",
    " 👉 "
   ]
  },
  {
   "cell_type": "markdown",
   "id": "08e00913-a927-4649-8c49-b35f340c6a01",
   "metadata": {
    "tags": []
   },
   "source": [
    "<div style=\"padding: 15px; border: 5px solid transparent; border-color: transparent; margin-bottom: 20px; border-radius: 4px; color: #3c763d; border-color: #d6e9c6; font-weight: bold;\">\n",
    "<h2 style='font-weight: bold'>5. 인공지능 윤리 가이드라인</h2>\n",
    "</div> "
   ]
  },
  {
   "cell_type": "markdown",
   "id": "09f3b49e-fa2a-4c3b-9ff8-37b6582f11d8",
   "metadata": {},
   "source": [
    "**인간의 의도**, **데이터 선정**등 인공지능의 사용과 개발, 도입 전 과정에 인간은 여전히 큰 부분을 차지하고 있습니다.\n",
    "\n",
    "인공지능의 사회적ㆍ문화적ㆍ윤리적 영향이 높아짐에 따라 인공지능의 사용과 개발, 도입 전 과정에 윤리가 필요해졌습니다.\n",
    "\n",
    "이에 관한 국제적 논의는 활발하게 일어나고 있으며, 국내에서도 2020년 '국가 인공지능 윤리 기준(대통령 직속 4차 산업혁명위원회, 과기정통부)'을 제정하는 등 발 빠르게 대응하고 있습니다."
   ]
  },
  {
   "cell_type": "markdown",
   "id": "ba2b3f78-3726-47e1-bfb1-52aa1f1b4fd9",
   "metadata": {},
   "source": [
    "### **(1) 국가 인공지능 윤리 기준**"
   ]
  },
  {
   "cell_type": "markdown",
   "id": "cbcb863e-1bf1-48ea-b060-ca277cc45025",
   "metadata": {},
   "source": [
    "위 윤리기준은 ‘사람중심의 인공지능’ 구현을 위해 지향되어야 할 최고 가치로 **‘인간성(Humanity)’**을 설정하고 있습니다.\n",
    "\n",
    "이는 다음과 같은 의미를 가집니다.\n",
    "\n",
    "모든 인공지능은 ‘인간성을 위한 인공지능(AI for Humanity)’을 지향하고, 인간에게 유용할 뿐만 아니라 나아가 인간 고유의 성품을 훼손하지 않고 보존하고 함양하도록 개발되고 활용되어야 합니다. \n",
    "\n",
    "또한 인공지능은 인간의 정신과 신체에 해롭지 않도록 개발되고 활용되어야하며, 개인의 윤택한 삶과 행복에 이바지하며 사회를 긍정적으로 변화하도록 이끄는 방향으로 발전되어야 합니다. \n",
    "\n",
    "나아가 인공지능은 사회적 불평등 해소에 기여하고 주어진 목적에 맞게 활용되어야 하며, 목적의 달성 과정 또한 윤리적이어야 하고, 궁극적으로 인간의 삶의 질 및 사회적 안녕과 공익 증진에 기여 하도록 개발되고 활용되어야 합니다.\n",
    "\n",
    "위 윤리 기준은 아래의 그림과 같이 3대 기본 원칙과 10대 핵심 요건으로 이루어져 있습니다.\n",
    "\n",
    "<table>\n",
    "<tr>\n",
    "    <th><img src=\"https://tmn-bucket-materials-all.s3.ap-northeast-2.amazonaws.com/image/ai/AI-17-04.png\" width=\"750\"></th>\n",
    "    </tr>\n",
    "<tr>\n",
    "    <th>3대 기본원칙과 10대 핵심 요건</th>\n",
    "</tr>\n",
    "</table>\n",
    "\n",
    "아래의 링크를 통해 자세한 내용을 살펴볼 수 있습니다.\n",
    "\n",
    "<a href=\"https://www.msit.go.kr/bbs/view.do?sCode=user&mPid=112&mId=113&bbsSeqNo=94&nttSeqNo=3179742\">링크_과기정통부, 「인공지능(AI) 윤리기준」</a>\n",
    "    \n",
    "    "
   ]
  },
  {
   "cell_type": "markdown",
   "id": "9cee4f18-d8e9-49d7-bbf1-d24bd8dbbea1",
   "metadata": {},
   "source": [
    "<div style=\"padding: 15px; border: 5px solid transparent; border-color: transparent; margin-bottom: 20px; border-radius: 4px; color: #8a6d3b;  border-color: #faebcc; font-weight: bold;\">\n",
    "    <div style=\"font-weight: bold; font-size: 20px\">✏️ [문제9]</div>\n",
    "    <br>\n",
    "위 \"국가 인공지능 윤리 기준\"은 누가 지켜야하는 것인지 적어보세요.\n",
    "</div>"
   ]
  },
  {
   "cell_type": "raw",
   "id": "24bcee3d-01e8-42fc-b7b7-98fbcbe34711",
   "metadata": {},
   "source": [
    " 👉 \n",
    " 👉 "
   ]
  },
  {
   "cell_type": "markdown",
   "id": "9b8d4123-537a-4dc9-880d-42ce744fe2b0",
   "metadata": {},
   "source": [
    "### (2) 기업 AI 윤리"
   ]
  },
  {
   "cell_type": "markdown",
   "id": "c8a45310-8465-44cb-b018-ba09bcc7dfd5",
   "metadata": {},
   "source": [
    "정부 뿐 아니라 기업 또한 AI 윤리 규범 및 준칙을 만들고 적용하고 있습니다.\n",
    "\n",
    "<table>\n",
    "<tr>\n",
    "    <th><img src=\"https://tmn-bucket-materials-all.s3.ap-northeast-2.amazonaws.com/image/ai/AI-17-05.png\" width=\"750\"></th>\n",
    "    </tr>\n",
    "<tr>\n",
    "    <th>카카오 AI윤리</th>\n",
    "</tr>\n",
    "</table>\n",
    "\n",
    "<a href=\"https://www.kakaocorp.com/page/responsible/detail/algorithm\">링크_카카오 AI 윤리</a>\n",
    "\n",
    "<table>\n",
    "<tr>\n",
    "    <th><img src=\"https://tmn-bucket-materials-all.s3.ap-northeast-2.amazonaws.com/image/ai/AI-17-06.png\" width=\"750\"></th>\n",
    "    </tr>\n",
    "<tr>\n",
    "    <th>네이버 AI 윤리 준칙</th>\n",
    "</tr>\n",
    "</table>\n",
    "\n",
    "<a href=\"https://www.navercorp.com/value/aiCodeEthics\">링크_네이버 AI 윤리 준칙</a>\n",
    "\n",
    "두 기업의 공통점은 다음과 같습니다.\n",
    "\n",
    "* 인간 및 인류를 위한 인공지능 개발\n",
    "\n",
    "* 차별 방지\n",
    "\n",
    "* 알고리즘에 대한 설명\n",
    "\n",
    "* 사용자의 안전 및 보호\n",
    "\n",
    "* 개인정보 보호"
   ]
  },
  {
   "cell_type": "markdown",
   "id": "e4b3fc5d-02a6-44e1-8f12-2945206324ed",
   "metadata": {},
   "source": [
    "<div style=\"padding: 15px; border: 5px solid transparent; border-color: transparent; margin-bottom: 20px; border-radius: 4px; color: #8a6d3b;  border-color: #faebcc; font-weight: bold;\">\n",
    "    <div style=\"font-weight: bold; font-size: 20px\">✏️ [문제10]</div>\n",
    "    <br>\n",
    "카카오와 네이버 중 개인적으로 마음에 드는 AI 윤리를 선택하고, 두 기업의 AI 윤리의 차이점을 위주로 선택 이유를 적어보세요\n",
    "</div>"
   ]
  },
  {
   "cell_type": "raw",
   "id": "ddd93cec-8ff7-4657-9190-9d55299f27d2",
   "metadata": {},
   "source": [
    " 👉 \n",
    " 👉 "
   ]
  }
 ],
 "metadata": {
  "kernelspec": {
   "display_name": "Python 3 (ipykernel)",
   "language": "python",
   "name": "python3"
  },
  "language_info": {
   "codemirror_mode": {
    "name": "ipython",
    "version": 3
   },
   "file_extension": ".py",
   "mimetype": "text/x-python",
   "name": "python",
   "nbconvert_exporter": "python",
   "pygments_lexer": "ipython3",
   "version": "3.10.12"
  }
 },
 "nbformat": 4,
 "nbformat_minor": 5
}
