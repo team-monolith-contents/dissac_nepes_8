{
 "cells": [
  {
   "cell_type": "markdown",
   "id": "ce7d7128",
   "metadata": {},
   "source": [
    "<div style=\"padding: 15px; border: 5px solid transparent; border-color: transparent; margin-bottom: 20px; border-radius: 4px; color: #3c763d; background-color: #dff0d8; border-color: #d6e9c6; font-weight: bold;\">\n",
    "    <br><br>\n",
    "    <div style=\"font-weight: bold; font-size: 40px\">ChatGPT와 함께하는 프로그램 제작</div>\n",
    "    <div style=\"font-weight: bold; font-size: 20px\">(3) ChatGPT로 어떤 것들을 할 수 있나요??</div>\n",
    "    <hr style=\"width:80%;text-align:left;margin-left:0;border:0.5px solid green\">\n",
    "    <br>\n",
    "    &#x2022; ChatGPT를 사용하는 방법을 이해한다. <br>\n",
    "    &#x2022; ChatGPT로 할 수 있는 일들을 안다. <br>\n",
    "</div>"
   ]
  },
  {
   "cell_type": "markdown",
   "id": "fcbe2e6e-fc33-409a-8985-1b77da9f4abb",
   "metadata": {
    "tags": []
   },
   "source": [
    "<div style=\"padding: 15px; border: 5px solid transparent; border-color: transparent; margin-bottom: 20px; border-radius: 4px; color: #3c763d; border-color: #d6e9c6; font-weight: bold;\">\n",
    "<h2 style='font-weight: bold'>1. ChatGPT 사용하기</h2>\n",
    "</div>"
   ]
  },
  {
   "cell_type": "markdown",
   "id": "f3a956f0-8a36-4c21-807f-109afe1b1f38",
   "metadata": {
    "tags": []
   },
   "source": [
    "### ChatGPT 사용하기"
   ]
  },
  {
   "cell_type": "markdown",
   "id": "dd74c224-5168-4ddf-8a80-9dd56520e018",
   "metadata": {},
   "source": [
    "ChatGPT는 OpenAI에서 개발한 인공지능 언어 모델입니다.<br>\n",
    "인공지능 언어 모델은 컴퓨터가 인간의 언어를 이해하고 생성하는 데 도움이 되는 프로그램입니다.<br>\n",
    "ChatGPT는 GPT-3.5 아키텍처를 기반으로 하며, 이는 \"Generative Pre-trained Transformer 3.5\"의 약자입니다.<br>\n",
    "이 모델은 이전의 많은 대화형 모델과 달리 사전 훈련된 모델로, 방대한 양의 데이터를 사용하여 학습되었습니다.<br>\n",
    "이 모델은 자연어 처리 (NLP)를 이용하여 대화를 수행하고 이해하며, 사용자의 질문에 응답하고 적절한 답변을 생성합니다.<br>\n",
    "사용자의 입력에 대한 의미를 파악하고, 문맥을 이해하여 더욱 자연스러운 대화를 가능하게 합니다.<br>\n",
    "이러한 언어 모델들은 인간처럼 완벽하지는 않지만, 많은 상황에서 유용하게 활용될 수 있으며, 지속적인 개선과 향상이 이루어지고 있습니다.<br>\n",
    "하지만 ChatGPT가 생성하는 대답이 정확하지 않을 수도 있기 때문에 그 사용범위와 한계를 인식하여 사용하는 것이 중요합니다.<br>"
   ]
  },
  {
   "cell_type": "markdown",
   "id": "5aa499b3-2c4d-4ce6-b529-2a0464227109",
   "metadata": {},
   "source": [
    "[ChatGPT](https://chat.openai.com/)\n",
    "\n",
    "위 링크를 통해 ChatGPT에 접근할 수 있습니다.\n",
    "\n",
    "<table>\n",
    "<tr>\n",
    "    <th><img src=\"https://tmn-bucket-materials-all.s3.ap-northeast-2.amazonaws.com/image/dissac/dissac_nepes_8_03_01.png\" width=\"750\"></th>\n",
    "    </tr>\n",
    "<tr>\n",
    "    <th>ChatGPT</th>\n",
    "</tr>\n",
    "</table>\n"
   ]
  },
  {
   "cell_type": "markdown",
   "id": "df7750cb-75be-43d0-b6d3-b1611be74876",
   "metadata": {},
   "source": [
    "<div style=\"padding: 15px; border: 5px solid transparent; border-color: transparent; margin-bottom: 20px; border-radius: 4px; color: #8a6d3b;  border-color: #faebcc; font-weight: bold;\">\n",
    "    <div style=\"font-weight: bold; font-size: 20px\">✏️ [문제1]</div>\n",
    "    <br>\n",
    "ChatGPT에게 ChatGPT가 무엇인지 물어보아요.\n",
    "</div>"
   ]
  },
  {
   "cell_type": "raw",
   "id": "492267ac-d320-413e-94a4-ab5d026f8b4d",
   "metadata": {},
   "source": [
    " 👉 \n",
    " 👉 "
   ]
  },
  {
   "cell_type": "markdown",
   "id": "a4078d96-13be-4f92-8673-c35e722867eb",
   "metadata": {
    "tags": []
   },
   "source": [
    "### ChatGPT의 한계"
   ]
  },
  {
   "cell_type": "markdown",
   "id": "6dc4880f-6e73-4b2f-b0a5-482564385a16",
   "metadata": {},
   "source": [
    "ChatGPT는 사전 학습에 사용된 데이터의 범위 내에서만 작동하기 때문에 항상 정답을 제공하는 것은 아닙니다.<br>\n",
    "ChatGPT3.5 버전은 21.9월 이전의 정보만으로 사전 학습되었기 때문에 최신 정보와 상충되는 답변을 생성할 수도 있습니다.<br>\n",
    "말도안되는 지시를 해도 마치 그럴싸하게 답변을 생성합니다.<br>\n",
    "최근에는 업데이트를 통해 이런 일들이 줄어들었습니다.\n",
    "\n",
    "<table>\n",
    "<tr>\n",
    "    <th><img src=\"https://tmn-bucket-materials-all.s3.ap-northeast-2.amazonaws.com/image/dissac/dissac_nepes_8_03_02.png\" width=\"750\"></th>\n",
    "    </tr>\n",
    "<tr>\n",
    "    <th>ChatGPT의 잘못된 대답 예시</th>\n",
    "</tr>\n",
    "</table>\n",
    "\n",
    "하지만 ChatGPT를 사용할 때에는 항상 다시 한 번 사실임을 검증하는 단계가 필요합니다."
   ]
  },
  {
   "cell_type": "markdown",
   "id": "02be5c24-0e69-4f7d-b989-dcb36f4803b1",
   "metadata": {
    "tags": []
   },
   "source": [
    "<div style=\"padding: 15px; border: 5px solid transparent; border-color: transparent; margin-bottom: 20px; border-radius: 4px; color: #3c763d; border-color: #d6e9c6; font-weight: bold;\">\n",
    "<h2 style='font-weight: bold'>2. ChatGPT 활용하기</h2>\n",
    "</div>"
   ]
  },
  {
   "cell_type": "markdown",
   "id": "d3fff1cf-22e4-4d74-b8a2-951ed3cd1a7d",
   "metadata": {},
   "source": [
    "ChatGPT는 다양한 일을 할 수 있습니다.\n",
    "\n",
    "1. 일반 지식 문의:\n",
    "    1. \"대한민국의 수도는 어디인가요?\"\n",
    "    2. \"천문학에서 블랙홀은 어떤 현상인가요?\"\n",
    "<table>\n",
    "<tr>\n",
    "<th><img src=\"https://tmn-bucket-materials-all.s3.ap-northeast-2.amazonaws.com/image/dissac/dissac_nepes_8_03_03.png\" width=\"750\"></th>\n",
    "    </tr>\n",
    "<tr>\n",
    "    <th>ChatGPT의 사용 - 일반상식</th>\n",
    "</tr>\n",
    "</table>\n",
    "2. 언어 번역:\n",
    "    1. \"Hello, how are you?\"를 한국어로 번역해주세요.\n",
    "    2. \"我喜欢学习新的语言\"을 영어로 번역해주세요.\n",
    "<table>\n",
    "<tr>\n",
    "    <th><img src=\"https://tmn-bucket-materials-all.s3.ap-northeast-2.amazonaws.com/image/dissac/dissac_nepes_8_03_04.png\" width=\"750\"></th>\n",
    "    </tr>\n",
    "<tr>\n",
    "    <th>ChatGPT의 사용 - 번역</th>\n",
    "</tr>\n",
    "</table>\n",
    "3. 창작 글 작성:\n",
    "    1. \"과학적으로 발명된 가상의 도구에 대해 설명해주세요.\"\n",
    "    2. \"미래 사회에서 로봇과 인간이 함께 일하는 모습을 상상해보세요.\"\n",
    "<table>\n",
    "<tr>\n",
    "    <th><img src=\"https://tmn-bucket-materials-all.s3.ap-northeast-2.amazonaws.com/image/dissac/dissac_nepes_8_03_05.png\" width=\"750\"></th>\n",
    "    </tr>\n",
    "<tr>\n",
    "    <th>ChatGPT의 사용 - 창작</th>\n",
    "</tr>\n",
    "</table>\n",
    "4. 프로그래밍 도움:\n",
    "    1. \"Python에서 1부터 10까지의 합을 구하는 코드는 무엇인가요?\"\n",
    "    2. \"JavaScript를 사용하여 현재 날짜와 시간을 표시하는 방법을 알려주세요.\"\n",
    "<table>\n",
    "<tr>\n",
    "    <th><img src=\"https://tmn-bucket-materials-all.s3.ap-northeast-2.amazonaws.com/image/dissac/dissac_nepes_8_03_06.png\" width=\"750\"></th>\n",
    "    </tr>\n",
    "<tr>\n",
    "    <th>ChatGPT의 사용 - 프로그래밍</th>\n",
    "</tr>\n",
    "</table>\n",
    "5. 유용한 조언:\n",
    "    1. \"공공장소에서 자신을 표현하는 데 어려움을 느끼는 사람들에게 조언을 해주세요.\"\n",
    "    2. \"닭고기 요리하는데 추천하는 레시피가 있을까요?\"\n",
    "<table>\n",
    "<tr>\n",
    "    <th><img src=\"https://tmn-bucket-materials-all.s3.ap-northeast-2.amazonaws.com/image/dissac/dissac_nepes_8_03_07.png\" width=\"750\"></th>\n",
    "    </tr>\n",
    "<tr>\n",
    "    <th>ChatGPT의 사용 - 조언</th>\n",
    "</tr>\n",
    "</table>"
   ]
  },
  {
   "cell_type": "markdown",
   "id": "353795cf-5f14-4682-bac0-d78457ac2b7a",
   "metadata": {},
   "source": [
    "<div style=\"padding: 15px; border: 5px solid transparent; border-color: transparent; margin-bottom: 20px; border-radius: 4px; color: #8a6d3b;  border-color: #faebcc; font-weight: bold;\">\n",
    "    <div style=\"font-weight: bold; font-size: 20px\">✏️ [문제2]</div>\n",
    "    <br>\n",
    "ChatGPT에게 여러가지 질문을 하고 그 질문의 결과를 공유해봅시다.\n",
    "</div>"
   ]
  },
  {
   "cell_type": "raw",
   "id": "ea32ace3-21d9-4309-8fee-689cae2e516c",
   "metadata": {},
   "source": [
    " 👉 \n",
    " 👉 "
   ]
  }
 ],
 "metadata": {
  "kernelspec": {
   "display_name": "Python 3 (ipykernel)",
   "language": "python",
   "name": "python3"
  },
  "language_info": {
   "codemirror_mode": {
    "name": "ipython",
    "version": 3
   },
   "file_extension": ".py",
   "mimetype": "text/x-python",
   "name": "python",
   "nbconvert_exporter": "python",
   "pygments_lexer": "ipython3",
   "version": "3.10.12"
  }
 },
 "nbformat": 4,
 "nbformat_minor": 5
}
