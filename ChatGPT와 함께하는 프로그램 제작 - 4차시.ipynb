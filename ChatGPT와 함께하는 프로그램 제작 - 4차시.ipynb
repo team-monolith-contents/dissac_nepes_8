{
 "cells": [
  {
   "cell_type": "markdown",
   "id": "ce7d7128",
   "metadata": {},
   "source": [
    "<div style=\"padding: 15px; border: 5px solid transparent; border-color: transparent; margin-bottom: 20px; border-radius: 4px; color: #3c763d; background-color: #dff0d8; border-color: #d6e9c6; font-weight: bold;\">\n",
    "    <br><br>\n",
    "    <div style=\"font-weight: bold; font-size: 40px\">ChatGPT와 함께하는 프로그램 제작</div>\n",
    "    <div style=\"font-weight: bold; font-size: 20px\">(4) ChatGPT와 효과적으로 대화하는 방법</div>\n",
    "    <hr style=\"width:80%;text-align:left;margin-left:0;border:0.5px solid green\">\n",
    "    <br>\n",
    "    &#x2022; 프롬프트 엔지니어링에 대해 이해한다. <br>\n",
    "    &#x2022; ChatGPT에게 효과적으로 질문하는 방법을 이해한다. <br>\n",
    "</div>"
   ]
  },
  {
   "cell_type": "markdown",
   "id": "fcbe2e6e-fc33-409a-8985-1b77da9f4abb",
   "metadata": {
    "tags": []
   },
   "source": [
    "<div style=\"padding: 15px; border: 5px solid transparent; border-color: transparent; margin-bottom: 20px; border-radius: 4px; color: #3c763d; border-color: #d6e9c6; font-weight: bold;\">\n",
    "<h2 style='font-weight: bold'>1. 프롬프트 작성이 중요한 이유</h2>\n",
    "</div>"
   ]
  },
  {
   "cell_type": "markdown",
   "id": "af23df71-3d62-4b9d-82a4-ebffe2f0749d",
   "metadata": {},
   "source": [
    "ChatGPT가 등장하면서 여러 분야에서 ChatGPT를 잘 활용하는 것이 중요해졌습니다.<br>\n",
    "ChatGPT를 잘 활용하려면 프롬프트를 잘 작성하는 것이 중요합니다.<br>\n",
    "프롬프트는 ChatGPT에게 하는 질문입니다.<br>\n",
    "\n",
    "123 + 549 = ??? <br>\n",
    "\n",
    "여러분은 이 질문을 바로 대답할 수 있나요? 바로 대답한 사람도 있을 것이고 아닌 사람도 있을것입니다.<br>\n",
    "여러분이 이 질문에 대답을 했는지 여부, 정답을 맞추었는지 여부와 상관없이 여러분은 덧셈을 할 수 있을 것입니다.<br>\n",
    "여러분에게 시간을 넉넉하게 준다면 기회를 여러번 준다면여러분은 충분히 정답을 맞출 수 있을 것입니다.<br>\n",
    "\n",
    "ChatGPT도 비슷합니다.<br>\n",
    "한 번에 답을 알아내라고 하면 틀릴 수 있지만 차근차근 계산하도록 질문하면 제대로 답합니다.<br>\n",
    "\n",
    "많은 사람들은 ChatGPT가 사실과 다른 이야기를 할 때, ChatGPT는 이런 질문에는 대답하지 못한다고 오해합니다.<br>\n",
    "하지만 이것은 사실과 다릅니다.<br>\n",
    "어떠한 방식으로 질문하는지(어떤 프롬프트를 사용하는 지)에 따라 원하는 답을 낼 수도 있고 내지 못할 수도 있습니다.<br>\n",
    "\n",
    "연구에 따르면 프롬프트에 Let's think step by step을 추가하면 답변을 훨씬 더 정확하게 작성한다고 합니다.<br>\n",
    "18% -> 79%로 정확도가 상승하는데, 한 문장을 추가한 것 치고는 정확도가 상당히 많이 상승한 것을 알 수 있습니다.\n",
    "\n",
    "\n",
    "\n"
   ]
  },
  {
   "cell_type": "markdown",
   "id": "17f937a1-50ef-4fee-abee-16bb85fd4d78",
   "metadata": {
    "tags": []
   },
   "source": [
    "<div style=\"padding: 15px; border: 5px solid transparent; border-color: transparent; margin-bottom: 20px; border-radius: 4px; color: #3c763d; border-color: #d6e9c6; font-weight: bold;\">\n",
    "<h2 style='font-weight: bold'>2. 효과적인 프롬프트 작성하기</h2>\n",
    "</div>"
   ]
  },
  {
   "cell_type": "markdown",
   "id": "26317ad8-4091-47e4-9f1c-f47122065fc8",
   "metadata": {},
   "source": [
    "### 명확하고 구체적인 지시 작성하기"
   ]
  },
  {
   "cell_type": "markdown",
   "id": "7e1e6433-b643-420b-93eb-f62441611222",
   "metadata": {},
   "source": [
    "명확하고 구체적인 지시는 원하는 대답을 생성할 가능성을 높입니다.\n",
    "\n",
    "명확하고 구체적인 지시는 다음과 같습니다.\n",
    "\n",
    "- 명확하지 않은 지시 : 세종대왕이 누구인가요?\n",
    "- 명확한 지시 : 세종대왕의 주요 업적을 연도순으로 정리하여 알려주세요.\n",
    "\n",
    "<table>\n",
    "<tr>\n",
    "    <th><img src=\"https://tmn-bucket-materials-all.s3.ap-northeast-2.amazonaws.com/image/dissac/dissac_nepes_8_04_01.png\" width=\"750\"></th>\n",
    "    <th><img src=\"https://tmn-bucket-materials-all.s3.ap-northeast-2.amazonaws.com/image/dissac/dissac_nepes_8_04_02.png\" width=\"750\"></th>\n",
    "    </tr>\n",
    "<tr>\n",
    "    <th>구체적인 질문</th>\n",
    "    <th>구체적이지 않은 질문</th>\n",
    "</tr>\n",
    "</table>"
   ]
  },
  {
   "cell_type": "markdown",
   "id": "6feab55f-a22c-4f46-9daf-1be550943c2f",
   "metadata": {},
   "source": [
    "### 예시와 함꼐 지시하기"
   ]
  },
  {
   "cell_type": "markdown",
   "id": "f4a6e8d2-2af2-426f-b091-d86380ef0759",
   "metadata": {},
   "source": [
    "주어진 지시에 대한 예시를 제공한다면 ChatGPT는 훨씬 좋은 대답을 제공합니다.\n",
    "성능을 보면 약 3배 정도 좋은 대답을 제공한다고 합니다.(18% -> 57%)\n",
    "\n",
    "예시는 다음과 같은 방법으로 사용할 수 있습니다.\n",
    "\n",
    "- 명확하지 않은 지시 : <br>\n",
    "3+4의 식으로 풀 수 있는 문제를 만들어줘\n",
    "- 명확한 지시: <br>\n",
    "3+4의 식으로 풀 수 있는 문제는 다음과 같습니다.<br>\n",
    "1.사과 3개가 있습니다. 아버지가 4개의 사과를 더 사왔다면 사과는 총 몇 개일까요?<br>\n",
    "2.꽃집에 꽃 5송이가 있고 친구가 2송이의 꽃을 더 사왔습니다. 그렇다면 꽃은 총 몇 송이일까요?<br>\n",
    "이제 5+2의 식으로 풀 수 있는 문제를 만들어주세요.<br>\n",
    "\n",
    "<table>\n",
    "<tr>\n",
    "    <th><img src=\"https://tmn-bucket-materials-all.s3.ap-northeast-2.amazonaws.com/image/dissac/dissac_nepes_8_04_03.png\" width=\"750\"></th>\n",
    "    <th><img src=\"https://tmn-bucket-materials-all.s3.ap-northeast-2.amazonaws.com/image/dissac/dissac_nepes_8_04_04.png\" width=\"750\"></th>\n",
    "    </tr>\n",
    "<tr>\n",
    "    <th>예시가 없는 질문</th>\n",
    "    <th>예시가 있는 질문</th>\n",
    "</tr>\n",
    "</table>"
   ]
  },
  {
   "cell_type": "markdown",
   "id": "e495ce4a-b239-4065-b1f9-7356ee4063e9",
   "metadata": {},
   "source": [
    "### 모델에게 생각할 시간을 주기"
   ]
  },
  {
   "cell_type": "markdown",
   "id": "4bed78c1-4816-4044-beca-de169dbee2e8",
   "metadata": {},
   "source": [
    "ChatGPT에게 결론을 한 번에 내도록 하지 않고 중간중간 단계를 알려주어 이를 먼저 수행하도록 하면 ChatGPT의 성능을 높일 수 있습니다.<br>\n",
    "이를 Least-to-most prompting 이라고 합니다.<br>\n",
    "Least-to-most prompting을 사용했을 때 복잡한 추론 문제에 대해 성능이 16% -> 99.7%로 향상되었다고 합니다.<br>\n",
    "\n",
    "\n",
    "<table>\n",
    "<tr>\n",
    "    <th><img src=\"https://tmn-bucket-materials-all.s3.ap-northeast-2.amazonaws.com/image/dissac/dissac_nepes_8_04_05.png\" width=\"750\"></th>\n",
    "    </tr>\n",
    "<tr>\n",
    "    <th>Least-to-most prompting 사용하지 않았을 때</th>\n",
    "</tr>\n",
    "</table>\n",
    "<table>\n",
    "<tr>\n",
    "    <th><img src=\"https://tmn-bucket-materials-all.s3.ap-northeast-2.amazonaws.com/image/dissac/dissac_nepes_8_04_06.png\" width=\"750\"></th>\n",
    "    </tr>\n",
    "<tr>\n",
    "    <th>Least-to-most prompting 사용하였을 때</th>\n",
    "</tr>\n",
    "</table>"
   ]
  },
  {
   "cell_type": "markdown",
   "id": "f5c52b02-bdaf-4cba-931c-23d2c3e9b370",
   "metadata": {},
   "source": [
    "프롬프트는 반복을 통해 성능을 향상시킵니다.\n",
    "\n",
    "1. ChatGPT에게 명확하고 구체적인 지시를 전달합니다.\n",
    "2. 원하는 결과가 나오지 않았다면 왜 그런지 분석합니다.\n",
    "3. 이를 바탕으로 프롬프트를 수정합니다.\n",
    "4. 1-3 과정을 반복합니다.\n",
    "\n",
    "이러한 과정의 반복은 ChatGPT가 최상의 대답을 하도록 만들어줍니다"
   ]
  },
  {
   "cell_type": "markdown",
   "id": "5d37d35e-bcde-49c2-af21-dff43367b6fe",
   "metadata": {},
   "source": [
    "<div style=\"padding: 15px; border: 5px solid transparent; border-color: transparent; margin-bottom: 20px; border-radius: 4px; color: #8a6d3b;  border-color: #faebcc; font-weight: bold;\">\n",
    "    <div style=\"font-weight: bold; font-size: 20px\">✏️ [문제1]</div>\n",
    "    <br>\n",
    "여러가지 일을 시켜봅시다.\n",
    "</div>"
   ]
  },
  {
   "cell_type": "raw",
   "id": "002ac566-368d-439d-a01b-0edeb11234fe",
   "metadata": {},
   "source": [
    " 👉 \n",
    " 👉 "
   ]
  }
 ],
 "metadata": {
  "kernelspec": {
   "display_name": "Python 3 (ipykernel)",
   "language": "python",
   "name": "python3"
  },
  "language_info": {
   "codemirror_mode": {
    "name": "ipython",
    "version": 3
   },
   "file_extension": ".py",
   "mimetype": "text/x-python",
   "name": "python",
   "nbconvert_exporter": "python",
   "pygments_lexer": "ipython3",
   "version": "3.10.12"
  }
 },
 "nbformat": 4,
 "nbformat_minor": 5
}
