{
 "cells": [
  {
   "cell_type": "markdown",
   "id": "ce7d7128",
   "metadata": {},
   "source": [
    "<div style=\"padding: 15px; border: 5px solid transparent; border-color: transparent; margin-bottom: 20px; border-radius: 4px; color: #3c763d; background-color: #dff0d8; border-color: #d6e9c6; font-weight: bold;\">\n",
    "    <br><br>\n",
    "    <div style=\"font-weight: bold; font-size: 40px\">ChatGPT와 함께하는 프로그램 제작</div>\n",
    "    <div style=\"font-weight: bold; font-size: 20px\">(6) ChatGPT로 개발하기 - 계획하기</div>\n",
    "    <hr style=\"width:80%;text-align:left;margin-left:0;border:0.5px solid green\">\n",
    "    <br>\n",
    "    &#x2022; ChatGPT를 이용한 여러가지 서비스에 대해 이해한다.<br>\n",
    "    &#x2022; ChatGPT를 이용한 서비스를 계획한다.\n",
    "</div>"
   ]
  },
  {
   "cell_type": "markdown",
   "id": "fcbe2e6e-fc33-409a-8985-1b77da9f4abb",
   "metadata": {
    "tags": []
   },
   "source": [
    "<div style=\"padding: 15px; border: 5px solid transparent; border-color: transparent; margin-bottom: 20px; border-radius: 4px; color: #3c763d; border-color: #d6e9c6; font-weight: bold;\">\n",
    "<h2 style='font-weight: bold'>1. ChatGPT를 활용한 서비스들</h2>\n",
    "</div>"
   ]
  },
  {
   "cell_type": "markdown",
   "id": "d3fff1cf-22e4-4d74-b8a2-951ed3cd1a7d",
   "metadata": {},
   "source": [
    "ChatGPT의 프롬프트를 설정하면 여러가지 서비스를 만들 수 있어요.\n",
    "\n",
    "[Dearmate](https://demo.dearmate.ai/) 에서 ChatGPT를 이용한 여러가지 서비스를 살펴보아요.\n",
    "\n",
    "<table>\n",
    "<tr>\n",
    "    <th><img src=\"https://tmn-bucket-materials-all.s3.ap-northeast-2.amazonaws.com/image/dissac/dissac_nepes_8_06_01.png\" width=\"500\"></th>\n",
    "    <th><img src=\"https://tmn-bucket-materials-all.s3.ap-northeast-2.amazonaws.com/image/dissac/dissac_nepes_8_06_02.png\" width=\"500\"></th>\n",
    "    </tr>\n",
    "<tr>\n",
    "    <th>소설 이어쓰기</th>\n",
    "    <th>스님스타일의 고민 상담</th>\n",
    "</tr>\n",
    "</table>"
   ]
  },
  {
   "cell_type": "markdown",
   "id": "abc66ac2-b024-4249-a66e-40a1f869aeb0",
   "metadata": {
    "tags": []
   },
   "source": [
    "<div style=\"padding: 15px; border: 5px solid transparent; border-color: transparent; margin-bottom: 20px; border-radius: 4px; color: #3c763d; border-color: #d6e9c6; font-weight: bold;\">\n",
    "<h2 style='font-weight: bold'>2. ChatGPT를 이용한 서비스 계획하기</h2>\n",
    "</div>"
   ]
  },
  {
   "cell_type": "markdown",
   "id": "aa1187a5-8c93-4487-b9f7-b0c009ce8824",
   "metadata": {},
   "source": [
    "앞서 체험해 본 여러 서비스들을 바탕으로 여러분 만의 ChatGPT 서비스를 계획해 보아요."
   ]
  },
  {
   "cell_type": "markdown",
   "id": "58da9737-e93d-41ef-bfd9-7e6c6881d673",
   "metadata": {},
   "source": [
    "<div style=\"padding: 15px; border: 5px solid transparent; border-color: transparent; margin-bottom: 20px; border-radius: 4px; color: #8a6d3b;  border-color: #faebcc; font-weight: bold;\">\n",
    "    <div style=\"font-weight: bold; font-size: 20px\">✏️ [문제1]</div>\n",
    "    <br>\n",
    "여러분만의 ChatGPT 서비스를 계획해봅시다.\n",
    "</div>"
   ]
  },
  {
   "cell_type": "raw",
   "id": "84e8208b-0405-4a66-89a0-9c13c61c2922",
   "metadata": {},
   "source": [
    " 👉 \n",
    " 👉 "
   ]
  }
 ],
 "metadata": {
  "kernelspec": {
   "display_name": "Python 3 (ipykernel)",
   "language": "python",
   "name": "python3"
  },
  "language_info": {
   "codemirror_mode": {
    "name": "ipython",
    "version": 3
   },
   "file_extension": ".py",
   "mimetype": "text/x-python",
   "name": "python",
   "nbconvert_exporter": "python",
   "pygments_lexer": "ipython3",
   "version": "3.10.12"
  }
 },
 "nbformat": 4,
 "nbformat_minor": 5
}
